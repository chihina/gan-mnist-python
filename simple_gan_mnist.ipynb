{
  "nbformat": 4,
  "nbformat_minor": 0,
  "metadata": {
    "colab": {
      "name": "simple_gan_mnist.ipynb",
      "provenance": [],
      "collapsed_sections": [],
      "toc_visible": true,
      "authorship_tag": "ABX9TyMW6MC+VigpNH399hWdmCgI",
      "include_colab_link": true
    },
    "kernelspec": {
      "name": "python3",
      "display_name": "Python 3"
    },
    "language_info": {
      "name": "python"
    },
    "accelerator": "GPU"
  },
  "cells": [
    {
      "cell_type": "markdown",
      "metadata": {
        "id": "view-in-github",
        "colab_type": "text"
      },
      "source": [
        "<a href=\"https://colab.research.google.com/github/chihina/gan-mnist-python/blob/master/simple_gan_mnist.ipynb\" target=\"_parent\"><img src=\"https://colab.research.google.com/assets/colab-badge.svg\" alt=\"Open In Colab\"/></a>"
      ]
    },
    {
      "cell_type": "markdown",
      "metadata": {
        "id": "HfDxnqonclRf"
      },
      "source": [
        "# Train simple GAN for MNIST"
      ]
    },
    {
      "cell_type": "markdown",
      "metadata": {
        "id": "i6zAsHcqcxc9"
      },
      "source": [
        "### Import library\n"
      ]
    },
    {
      "cell_type": "code",
      "metadata": {
        "id": "0Vo-JzjRcZ8p"
      },
      "source": [
        "import torch\n",
        "import torch.nn as nn\n",
        "import torch.optim as optim\n",
        "import torchvision\n",
        "from torchvision import models, transforms\n",
        "from torchvision.utils import save_image\n",
        "\n",
        "import random\n",
        "from tqdm import tqdm\n",
        "import numpy as np\n",
        "import matplotlib\n",
        "import matplotlib.pyplot as plt"
      ],
      "execution_count": 138,
      "outputs": []
    },
    {
      "cell_type": "markdown",
      "metadata": {
        "id": "Wwu88HzGc14N"
      },
      "source": [
        "##Define network"
      ]
    },
    {
      "cell_type": "code",
      "metadata": {
        "id": "8oZLemTPcvzG"
      },
      "source": [
        "class Generator(torch.nn.Module):\n",
        "    def __init__(self, latent_dim, mnist_size):\n",
        "        super().__init__()\n",
        "        self.fc1 = torch.nn.Linear(latent_dim, 256, bias=False)\n",
        "        self.fc2 = torch.nn.Linear(256, 512, bias=False)\n",
        "        self.fc3 = torch.nn.Linear(512, mnist_size, bias=False)\n",
        "        self.relu = torch.nn.ReLU()\n",
        "    def forward(self, x):\n",
        "        x = self.relu(self.fc1(x))\n",
        "        x = self.relu(self.fc2(x))\n",
        "        x = torch.tanh(self.fc3(x))\n",
        "        return x\n",
        "\n",
        "class Discriminator(torch.nn.Module):\n",
        "    def __init__(self, class_num):\n",
        "        super().__init__()\n",
        "\n",
        "        self.conv_block = nn.Sequential(\n",
        "             nn.Conv2d(1, 2, kernel_size=3, padding=1),\n",
        "             nn.ReLU(),\n",
        "             nn.Conv2d(2, 4, kernel_size=3, padding=1),\n",
        "             nn.ReLU(),\n",
        "             nn.MaxPool2d((2, 2)),\n",
        "             nn.Conv2d(4, 8, kernel_size=3, padding=1),\n",
        "             nn.ReLU(),\n",
        "             nn.Conv2d(8, 16, kernel_size=3, padding=1),\n",
        "             nn.ReLU(),\n",
        "\n",
        "             nn.Conv2d(16, class_num, kernel_size=1),\n",
        "             nn.AvgPool2d((14, 14)),\n",
        "             nn.Flatten(),\n",
        "        )\n",
        "\n",
        "        self.sigmooid = nn.Sigmoid()\n",
        "\n",
        "    def forward(self, x):\n",
        "        x = self.conv_block(x)\n",
        "        x = self.sigmooid(x)\n",
        "\n",
        "        return x"
      ],
      "execution_count": 70,
      "outputs": []
    },
    {
      "cell_type": "markdown",
      "metadata": {
        "id": "9DNneR9PzaBA"
      },
      "source": [
        "## Define train function"
      ]
    },
    {
      "cell_type": "code",
      "metadata": {
        "id": "vtr8YZSCxY-Q"
      },
      "source": [
        "def train(epoch):\n",
        "    G_losses = 0\n",
        "    D_losses = 0\n",
        "\n",
        "    netD.train()\n",
        "    netG.train()\n",
        "\n",
        "    for data in tqdm(trainloader):\n",
        "        img, label_mnist = data[0], data[1]\n",
        "        label = torch.full((batch_size,), real_label, dtype=torch.float, device=device)\n",
        "        \n",
        "        img = img.to(device)\n",
        "        label = label.to(device)\n",
        "\n",
        "        ############################\n",
        "        # (1) Update D network: maximize log(D(x)) + log(1 - D(G(z)))\n",
        "        ###########################\n",
        "        ## Train with all-real batch\n",
        "\n",
        "        # Forward pass real batch through D\n",
        "        output = netD(img).view(-1)\n",
        "        \n",
        "        # Calculate loss on all-real batch\n",
        "        errD_real = criterion(output, label)\n",
        "        \n",
        "        # Calculate gradients for D in backward pass\n",
        "        netD.zero_grad()\n",
        "        errD_real.backward()\n",
        "\n",
        "        ## Train with all-fake batch\n",
        "        \n",
        "        # Generate batch of latent vectors\n",
        "        noise = torch.randn(batch_size, latent_dim, device=device)\n",
        "        # Generate fake image batch with G\n",
        "        fake = netG(noise)\n",
        "        label.fill_(fake_label)\n",
        "        # Classify all fake batch with D\n",
        "        fake = fake.view(batch_size, 1, int(mnist_size**0.5), int(mnist_size**0.5))\n",
        "        output = netD(fake.detach()).view(-1)\n",
        "\n",
        "        # Calculate D's loss on the all-fake batch\n",
        "        errD_fake = criterion(output, label)\n",
        "        # Calculate the gradients for this batch, accumulated (summed) with previous gradients\n",
        "        errD_fake.backward()\n",
        "        # Compute error of D as sum over the fake and the real batches\n",
        "        errD = errD_real + errD_fake\n",
        "        # Update D\n",
        "        optimizerD.step()\n",
        "\n",
        "        ############################\n",
        "        # (2) Update G network: maximize log(D(G(z)))\n",
        "        ###########################\n",
        "        netG.zero_grad()\n",
        "        label.fill_(real_label)  # fake labels are real for generator cost\n",
        "        # Since we just updated D, perform another forward pass of all-fake batch through D\n",
        "        output = netD(fake).view(-1)\n",
        "        # Calculate G's loss based on this output\n",
        "        errG = criterion(output, label)\n",
        "        # Calculate gradients for G\n",
        "        errG.backward()\n",
        "        D_G_z2 = output.mean().item()\n",
        "        # Update G\n",
        "        optimizerG.step()\n",
        "\n",
        "        # Save Losses for plotting later\n",
        "        G_losses += errG.item()\n",
        "        D_losses += errD.item()\n",
        "\n",
        "    G_losses_epoch = G_losses / len(trainloader)\n",
        "    D_losses_epoch = D_losses / len(trainloader)\n",
        "\n",
        "    return G_losses_epoch, D_losses_epoch"
      ],
      "execution_count": 121,
      "outputs": []
    },
    {
      "cell_type": "markdown",
      "metadata": {
        "id": "UJfr2k1jzd-I"
      },
      "source": [
        "## Define valid function"
      ]
    },
    {
      "cell_type": "code",
      "metadata": {
        "id": "wDFxPzujy14w"
      },
      "source": [
        "def valid(epoch_num):\n",
        "    G_losses = 0\n",
        "    D_losses = 0\n",
        "\n",
        "    netD.eval()\n",
        "    netG.eval()\n",
        "\n",
        "    for data in tqdm(trainloader):\n",
        "      img, label_mnist = data[0], data[1]\n",
        "      label = torch.full((batch_size,), real_label, dtype=torch.float, device=device)\n",
        "      \n",
        "      img = img.to(device)\n",
        "      label = label.to(device)\n",
        "\n",
        "      ############################\n",
        "      # (1) Update D network: maximize log(D(x)) + log(1 - D(G(z)))\n",
        "      ###########################\n",
        "      ## Train with all-real batch\n",
        "\n",
        "      # Forward pass real batch through D\n",
        "      output = netD(img).view(-1)\n",
        "      \n",
        "      # Calculate loss on all-real batch\n",
        "      errD_real = criterion(output, label)\n",
        "      \n",
        "      # Calculate gradients for D in backward pass\n",
        "      netD.zero_grad()\n",
        "      errD_real.backward()\n",
        "\n",
        "      ## Train with all-fake batch\n",
        "      \n",
        "      # Generate batch of latent vectors\n",
        "      noise = torch.randn(batch_size, latent_dim, device=device)\n",
        "      # Generate fake image batch with G\n",
        "      fake = netG(noise)\n",
        "      label.fill_(fake_label)\n",
        "      # Classify all fake batch with D\n",
        "      fake = fake.view(batch_size, 1, int(mnist_size**0.5), int(mnist_size**0.5))\n",
        "      output = netD(fake.detach()).view(-1)\n",
        "\n",
        "      # Calculate D's loss on the all-fake batch\n",
        "      errD_fake = criterion(output, label)\n",
        "      # Calculate the gradients for this batch, accumulated (summed) with previous gradients\n",
        "      errD_fake.backward()\n",
        "      # Compute error of D as sum over the fake and the real batches\n",
        "      errD = errD_real + errD_fake\n",
        "      # Update D\n",
        "      # optimizerD.step()\n",
        "\n",
        "      ############################\n",
        "      # (2) Update G network: maximize log(D(G(z)))\n",
        "      ###########################\n",
        "      netG.zero_grad()\n",
        "      label.fill_(real_label)  # fake labels are real for generator cost\n",
        "      # Since we just updated D, perform another forward pass of all-fake batch through D\n",
        "      output = netD(fake).view(-1)\n",
        "      # Calculate G's loss based on this output\n",
        "      errG = criterion(output, label)\n",
        "      # Calculate gradients for G\n",
        "      errG.backward()\n",
        "      D_G_z2 = output.mean().item()\n",
        "      # Update G\n",
        "      # optimizerG.step()\n",
        "\n",
        "      # Save Losses for plotting later\n",
        "      G_losses += errG.item()\n",
        "      D_losses += errD.item()\n",
        "\n",
        "    G_losses_epoch = G_losses / len(trainloader)\n",
        "    D_losses_epoch = D_losses / len(trainloader)\n",
        "\n",
        "    return G_losses_epoch, D_losses_epoch"
      ],
      "execution_count": 123,
      "outputs": []
    },
    {
      "cell_type": "markdown",
      "metadata": {
        "id": "ZgCQ3fH1zpcx"
      },
      "source": [
        "## Run training and validation"
      ]
    },
    {
      "cell_type": "code",
      "metadata": {
        "colab": {
          "base_uri": "https://localhost:8080/"
        },
        "id": "ag8qejGcgqnM",
        "outputId": "d6ac8f58-80c6-4de9-d0ab-533d0c1d2e94"
      },
      "source": [
        "# seed\n",
        "torch.manual_seed(777)\n",
        "\n",
        "# define parameters\n",
        "latent_dim = 64\n",
        "mnist_size = 28 * 28\n",
        "batch_size = 32\n",
        "lr = 0.001\n",
        "epoch_all = 20\n",
        "\n",
        "# for gpu\n",
        "device = torch.device(\"cuda:0\" if (torch.cuda.is_available()) else \"cpu\")\n",
        "\n",
        "# generate model instances\n",
        "netD = Discriminator(1)\n",
        "netG = Generator(latent_dim, mnist_size)\n",
        "\n",
        "# move to GPU\n",
        "netD = netD.to(device)\n",
        "netG = netG.to(device)\n",
        "\n",
        "# Setup Adam optimizers for generator and discriminator\n",
        "optimizerD = optim.Adam(netD.parameters(), lr=lr)\n",
        "optimizerG = optim.Adam(netG.parameters(), lr=lr)\n",
        "\n",
        "# Initialize CrossEntoropy function\n",
        "criterion = nn.BCELoss()\n",
        "\n",
        "# Establish convention for real and fake labels during training\n",
        "real_label = 1.\n",
        "fake_label = 0.\n",
        "\n",
        "transform = transforms.Compose([\n",
        "    transforms.ToTensor(),\n",
        "])\n",
        "\n",
        "trainset = torchvision.datasets.MNIST(root='./data', \n",
        "                                        train=True,\n",
        "                                        download=True,\n",
        "                                        transform=transform)\n",
        "trainloader = torch.utils.data.DataLoader(trainset,\n",
        "                                            batch_size=batch_size,\n",
        "                                            shuffle=True,\n",
        "                                            num_workers=2)\n",
        "\n",
        "testset = torchvision.datasets.MNIST(root='./data', \n",
        "                                        train=False, \n",
        "                                        download=True, \n",
        "                                        transform=transform)\n",
        "testloader = torch.utils.data.DataLoader(testset, \n",
        "                                            batch_size=batch_size,\n",
        "                                            shuffle=False, \n",
        "                                            num_workers=2)\n",
        "\n",
        "G_losses_array = np.zeros((2, epoch_all))\n",
        "D_losses_array = np.zeros((2, epoch_all))\n",
        "\n",
        "best_loss = 10000\n",
        "\n",
        "for epoch_num in range(1, epoch_all+1):\n",
        "\n",
        "    G_losses_epoch_train, D_losses_epoch_train = train(epoch_num)\n",
        "    print(f'Train, Epoch:{epoch_num}/{epoch_all}, G_loss:{G_losses_epoch_train:.5f}, D_loss:{D_losses_epoch_train:.5f}')\n",
        "    \n",
        "    G_losses_epoch_valid, D_losses_epoch_valid = valid(epoch_num)\n",
        "    print(f'Valid, Epoch:{epoch_num}/{epoch_all}, G_loss:{G_losses_epoch_valid:.5f}, D_loss:{D_losses_epoch_valid:.5f}')\n",
        "\n",
        "    G_losses_array[0, epoch_num-1] = G_losses_epoch_train\n",
        "    D_losses_array[0, epoch_num-1] = D_losses_epoch_train\n",
        "    G_losses_array[1, epoch_num-1] = G_losses_epoch_valid\n",
        "    D_losses_array[1, epoch_num-1] = D_losses_epoch_valid\n",
        "\n",
        "    valid_loss_all = G_losses_epoch_valid + D_losses_epoch_valid\n",
        "    if best_loss > valid_loss_all:\n",
        "      best_loss = valid_loss_all\n",
        "      print(f'Best loss, save {epoch_num} epoch')\n",
        "      torch.save(netD.state_dict(), 'netD_weight.pth')\n",
        "      torch.save(netG.state_dict(), 'netG_weight.pth')"
      ],
      "execution_count": 124,
      "outputs": [
        {
          "output_type": "stream",
          "name": "stderr",
          "text": [
            "100%|██████████| 1875/1875 [00:50<00:00, 36.98it/s]\n"
          ]
        },
        {
          "output_type": "stream",
          "name": "stdout",
          "text": [
            "Train, Epoch:1/5, G_loss:1.22323, D_loss:1.27558\n"
          ]
        },
        {
          "output_type": "stream",
          "name": "stderr",
          "text": [
            "100%|██████████| 1875/1875 [00:41<00:00, 44.85it/s]\n"
          ]
        },
        {
          "output_type": "stream",
          "name": "stdout",
          "text": [
            "Valid, Epoch:1/5, G_loss:0.62513, D_loss:1.45584\n",
            "Best loss, save 1 epoch\n"
          ]
        },
        {
          "output_type": "stream",
          "name": "stderr",
          "text": [
            "100%|██████████| 1875/1875 [00:47<00:00, 39.37it/s]\n"
          ]
        },
        {
          "output_type": "stream",
          "name": "stdout",
          "text": [
            "Train, Epoch:2/5, G_loss:0.69229, D_loss:1.39141\n"
          ]
        },
        {
          "output_type": "stream",
          "name": "stderr",
          "text": [
            "100%|██████████| 1875/1875 [00:43<00:00, 43.10it/s]\n"
          ]
        },
        {
          "output_type": "stream",
          "name": "stdout",
          "text": [
            "Valid, Epoch:2/5, G_loss:0.63061, D_loss:1.38497\n",
            "Best loss, save 2 epoch\n"
          ]
        },
        {
          "output_type": "stream",
          "name": "stderr",
          "text": [
            "100%|██████████| 1875/1875 [00:47<00:00, 39.67it/s]\n"
          ]
        },
        {
          "output_type": "stream",
          "name": "stdout",
          "text": [
            "Train, Epoch:3/5, G_loss:0.75851, D_loss:1.36200\n"
          ]
        },
        {
          "output_type": "stream",
          "name": "stderr",
          "text": [
            "100%|██████████| 1875/1875 [00:42<00:00, 44.54it/s]\n"
          ]
        },
        {
          "output_type": "stream",
          "name": "stdout",
          "text": [
            "Valid, Epoch:3/5, G_loss:0.65892, D_loss:1.39518\n"
          ]
        },
        {
          "output_type": "stream",
          "name": "stderr",
          "text": [
            "100%|██████████| 1875/1875 [00:47<00:00, 39.87it/s]\n"
          ]
        },
        {
          "output_type": "stream",
          "name": "stdout",
          "text": [
            "Train, Epoch:4/5, G_loss:0.69249, D_loss:1.38918\n"
          ]
        },
        {
          "output_type": "stream",
          "name": "stderr",
          "text": [
            "100%|██████████| 1875/1875 [00:43<00:00, 42.87it/s]\n"
          ]
        },
        {
          "output_type": "stream",
          "name": "stdout",
          "text": [
            "Valid, Epoch:4/5, G_loss:0.67781, D_loss:1.38905\n"
          ]
        },
        {
          "output_type": "stream",
          "name": "stderr",
          "text": [
            "100%|██████████| 1875/1875 [00:48<00:00, 38.93it/s]\n"
          ]
        },
        {
          "output_type": "stream",
          "name": "stdout",
          "text": [
            "Train, Epoch:5/5, G_loss:0.69203, D_loss:1.38714\n"
          ]
        },
        {
          "output_type": "stream",
          "name": "stderr",
          "text": [
            "100%|██████████| 1875/1875 [00:43<00:00, 43.27it/s]"
          ]
        },
        {
          "output_type": "stream",
          "name": "stdout",
          "text": [
            "Valid, Epoch:5/5, G_loss:0.70238, D_loss:1.38677\n"
          ]
        },
        {
          "output_type": "stream",
          "name": "stderr",
          "text": [
            "\n"
          ]
        }
      ]
    },
    {
      "cell_type": "markdown",
      "metadata": {
        "id": "r3Lw_k0XtRb7"
      },
      "source": [
        "## Visualize loss curves"
      ]
    },
    {
      "cell_type": "code",
      "metadata": {
        "colab": {
          "base_uri": "https://localhost:8080/",
          "height": 573
        },
        "id": "1syj9oy2tUk8",
        "outputId": "7b736b13-d5dc-4fb8-cd91-9d22c2b295bc"
      },
      "source": [
        "plt.figure()\n",
        "plt.plot(np.arange(epoch_num), G_losses_array[0, :], label='Train')\n",
        "plt.plot(np.arange(epoch_num), G_losses_array[1, :], label='Valid')\n",
        "plt.title('G loss curve')\n",
        "plt.xlabel('Epoch num')\n",
        "plt.xlabel('G loss')\n",
        "plt.legend()\n",
        "plt.show()\n",
        "\n",
        "plt.figure()\n",
        "plt.plot(np.arange(epoch_num), D_losses_array[0, :], label='Train')\n",
        "plt.plot(np.arange(epoch_num), D_losses_array[1, :], label='Valid')\n",
        "plt.title('D loss curve')\n",
        "plt.xlabel('Epoch num')\n",
        "plt.xlabel('D loss')\n",
        "plt.legend()\n",
        "plt.show()"
      ],
      "execution_count": 127,
      "outputs": [
        {
          "output_type": "display_data",
          "data": {
            "image/png": "[encoded data removed]",
            "text/plain": [
              "<Figure size 432x288 with 1 Axes>"
            ]
          },
          "metadata": {
            "needs_background": "light"
          }
        },
        {
          "output_type": "display_data",
          "data": {
            "image/png": "[encoded data removed]",
            "text/plain": [
              "<Figure size 432x288 with 1 Axes>"
            ]
          },
          "metadata": {
            "needs_background": "light"
          }
        }
      ]
    },
    {
      "cell_type": "markdown",
      "metadata": {
        "id": "U5YLVGIL4rvp"
      },
      "source": [
        "# Generate image using trained model"
      ]
    },
    {
      "cell_type": "code",
      "metadata": {
        "colab": {
          "base_uri": "https://localhost:8080/",
          "height": 299
        },
        "id": "EcIcc32I4zhE",
        "outputId": "f2a4209f-1491-4f46-b981-caac5e117707"
      },
      "source": [
        "from PIL import Image\n",
        "\n",
        "# generate model instances\n",
        "netG = Generator(latent_dim, mnist_size)\n",
        "netG.load_state_dict(torch.load('netG_weight.pth', map_location=device))\n",
        "\n",
        "# move to GPU\n",
        "netG = netG.to(device)\n",
        "\n",
        "# generate noise sample\n",
        "noise = torch.randn(1, latent_dim, device=device)\n",
        "print('Random noise', noise.shape)\n",
        "generated_img = netG(noise)\n",
        "generated_img = generated_img.view(1, 1, int(mnist_size**0.5), int(mnist_size**0.5))\n",
        "print('Generated img', generated_img.shape)\n",
        "\n",
        "# save generated image\n",
        "save_image(generated_img, f'generated_img.png')\n",
        "generated_img = Image.open(\"generated_img.png\")\n",
        "generated_img = np.asarray(generated_img)\n",
        "plt.imshow(generated_img)\n",
        "plt.show()"
      ],
      "execution_count": 150,
      "outputs": [
        {
          "output_type": "stream",
          "name": "stdout",
          "text": [
            "Random noise torch.Size([1, 64])\n",
            "Generated img torch.Size([1, 1, 28, 28])\n"
          ]
        },
        {
          "output_type": "display_data",
          "data": {
            "image/png": "[encoded data removed]",
            "text/plain": [
              "<Figure size 432x288 with 1 Axes>"
            ]
          },
          "metadata": {
            "needs_background": "light"
          }
        }
      ]
    }
  ]
}